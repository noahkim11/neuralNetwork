{
 "cells": [
  {
   "cell_type": "code",
   "execution_count": 1,
   "metadata": {
    "collapsed": true
   },
   "outputs": [],
   "source": [
    "#NN class definition\n",
    "class neuralNetwork:\n",
    "    \n",
    "    #initialize\n",
    "    def __init__(self, inputnodes, hiddennodes, outputnodes, learningrate):\n",
    "        #set number of nodes in input, hidden and output layer\n",
    "        self.inodes = inputnodes\n",
    "        self.hnodes = hiddennodes\n",
    "        self.onodes = outputnodes\n",
    "        \n",
    "        #learning rate\n",
    "        self.lr = learningrate        \n",
    "\n",
    "        #weights in array w_i_j (weight of node i -> node j)\n",
    "        self.wih = (numpy.random.rand(self.hnodes, self.inodes) - 0.5)\n",
    "        self.who = (numpy.random.rand(self.onodes, self.hnodes) - 0.5)\n",
    "        pass\n",
    "    \n",
    "    \n",
    "    #train\n",
    "    def train():\n",
    "        pass\n",
    "    \n",
    "    #query NN\n",
    "    def query():\n",
    "        pass"
   ]
  },
  {
   "cell_type": "code",
   "execution_count": 3,
   "metadata": {},
   "outputs": [
    {
     "data": {
      "text/plain": [
       "array([[-0.30500137, -0.3048636 ,  0.09463393],\n",
       "       [ 0.44998568, -0.36327581, -0.06710562],\n",
       "       [ 0.24268845, -0.15156898,  0.46908339],\n",
       "       [-0.04469747, -0.1447117 ,  0.19968715]])"
      ]
     },
     "execution_count": 3,
     "metadata": {},
     "output_type": "execute_result"
    }
   ],
   "source": [
    "import numpy\n",
    "#number of input, hidden and output nodes\n",
    "input_nodes = 3\n",
    "hidden_nodes = 4\n",
    "output_nodes = 3\n",
    "\n",
    "#learning reate is 0.3\n",
    "learning_rate = 0.3\n",
    "\n",
    "#create instance of neural network\n",
    "n = neuralNetwork(input_nodes, hidden_nodes, output_nodes, learning_rate)\n",
    "\n",
    "n.wih\n"
   ]
  }
 ],
 "metadata": {
  "kernelspec": {
   "display_name": "Python 3",
   "language": "python",
   "name": "python3"
  },
  "language_info": {
   "codemirror_mode": {
    "name": "ipython",
    "version": 3
   },
   "file_extension": ".py",
   "mimetype": "text/x-python",
   "name": "python",
   "nbconvert_exporter": "python",
   "pygments_lexer": "ipython3",
   "version": "3.5.4"
  }
 },
 "nbformat": 4,
 "nbformat_minor": 2
}
