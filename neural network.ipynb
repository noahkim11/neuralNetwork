{
 "cells": [
  {
   "cell_type": "code",
   "execution_count": 5,
   "metadata": {
    "collapsed": true
   },
   "outputs": [],
   "source": [
    "#NN class definition\n",
    "class neuralNetwork:\n",
    "    \n",
    "    #initialize\n",
    "    def __init__(self, inputnodes, hiddennodes, outputnodes, learningrate):\n",
    "        #set number of nodes in input, hidden and output layer\n",
    "        self.inodes = inputnodes\n",
    "        self.hnodes = hiddennodes\n",
    "        self.onodes = outputnodes\n",
    "        \n",
    "        #learning rate\n",
    "        self.lr = learningrate        \n",
    "\n",
    "        #weights in array w_i_j (weight of node i -> node j)\n",
    "#        self.wih = (numpy.random.rand(self.hnodes, self.inodes) - 0.5)\n",
    "#        self.who = (numpy.random.rand(self.onodes, self.hnodes) - 0.5)\n",
    "        \n",
    "        self.wih = numpy.random.normal(0.0, pow(self.hnodes, -0.5), (self.hnodes, self.inodes))\n",
    "        self.who = numpy.random.normal(0.0, pow(self.onodes, -0.5), (self.onodes, self.hnodes))\n",
    "        \n",
    "        #activation function sigmoid\n",
    "        self.activation_function = lambda x: scipy.special.expit(x)\n",
    "\n",
    "        \n",
    "        pass\n",
    "    \n",
    "    \n",
    "    #train\n",
    "    def train():\n",
    "        pass\n",
    "    \n",
    "    #query NN\n",
    "    def query(self, inputs_list):\n",
    "        \n",
    "        #convert inputs list to 2d array\n",
    "        inputs = numpy.array(inputs_list, ndmin=2).T\n",
    "        \n",
    "        #signal into hidden layer\n",
    "        hidden_inputs = numpy.dot(self.wih, inputs)\n",
    "        \n",
    "        #signal from hidden layer\n",
    "        \n",
    "        hidden_outputs = self.activation_function(hidden_inputs)\n",
    "        \n",
    "        pass"
   ]
  },
  {
   "cell_type": "code",
   "execution_count": 6,
   "metadata": {},
   "outputs": [],
   "source": [
    "import numpy\n",
    "import scipy.special\n",
    "\n",
    "#number of input, hidden and output nodes\n",
    "input_nodes = 3\n",
    "hidden_nodes = 3\n",
    "output_nodes = 3\n",
    "\n",
    "#learning reate is 0.3\n",
    "learning_rate = 0.3\n",
    "\n",
    "#create instance of neural network\n",
    "n = neuralNetwork(input_nodes, hidden_nodes, output_nodes, learning_rate)\n",
    "\n",
    "\n",
    "inputs_list = [1, 2, 3]\n",
    "\n",
    "n.query(inputs_list)\n"
   ]
  }
 ],
 "metadata": {
  "kernelspec": {
   "display_name": "Python 3",
   "language": "python",
   "name": "python3"
  },
  "language_info": {
   "codemirror_mode": {
    "name": "ipython",
    "version": 3
   },
   "file_extension": ".py",
   "mimetype": "text/x-python",
   "name": "python",
   "nbconvert_exporter": "python",
   "pygments_lexer": "ipython3",
   "version": "3.5.4"
  }
 },
 "nbformat": 4,
 "nbformat_minor": 2
}
