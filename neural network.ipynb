{
 "cells": [
  {
   "cell_type": "code",
   "execution_count": 3,
   "metadata": {
    "collapsed": true
   },
   "outputs": [],
   "source": [
    "#NN class definition\n",
    "class neuralNetwork:\n",
    "    \n",
    "    #initialize\n",
    "    def __init__(self, inputnodes, hiddennodes, outputnodes, learningrate):\n",
    "        #set number of nodes in input, hidden and output layer\n",
    "        self.inodes = inputnodes\n",
    "        self.hnodes = hiddennodes\n",
    "        self.onodes = outputnodes\n",
    "        \n",
    "        #learning rate\n",
    "        self.lr = learningrate        \n",
    "\n",
    "        #weights in array w_i_j (weight of node i -> node j)\n",
    "#        self.wih = (numpy.random.rand(self.hnodes, self.inodes) - 0.5)\n",
    "#        self.who = (numpy.random.rand(self.onodes, self.hnodes) - 0.5)\n",
    "        \n",
    "        self.wih = np.random.normal(0.0, pow(self.hnodes, -0.5), (self.hnodes, self.inodes))\n",
    "        self.who = np.random.normal(0.0, pow(self.onodes, -0.5), (self.onodes, self.hnodes))\n",
    "        \n",
    "        #activation function sigmoid\n",
    "        self.activation_function = lambda x: scipy.special.expit(x)\n",
    "\n",
    "        \n",
    "        pass\n",
    "    \n",
    "    \n",
    "    #train\n",
    "    def train(self, input_list, targets_list):\n",
    "        targets = np.arry(targets_list, ndmin=2).T\n",
    "        \n",
    "        #error is target-actual\n",
    "        output_errors = targets - final_outputs\n",
    "        \n",
    "        hidden_errors = np.dot(who.T,output_errors)\n",
    "        pass\n",
    "    \n",
    "    #query NN\n",
    "    def query(self, inputs_list):\n",
    "        \n",
    "        #convert inputs list to 2d array\n",
    "        inputs = np.array(inputs_list, ndmin=2).T\n",
    "        \n",
    "        #signal into hidden layer\n",
    "        hidden_inputs = np.dot(self.wih, inputs)\n",
    "        \n",
    "        #signal from hidden layer\n",
    "        hidden_outputs = self.activation_function(hidden_inputs)\n",
    "        \n",
    "        #signal into final output\n",
    "        final_inputs = np.dot(self.who, hidden_outputs)\n",
    "        \n",
    "        #signal from final output\n",
    "        final_outputs = self.activation_function(final_inputs)\n",
    "        \n",
    "        return final_outputs\n"
   ]
  },
  {
   "cell_type": "code",
   "execution_count": 4,
   "metadata": {},
   "outputs": [
    {
     "data": {
      "text/plain": [
       "array([[ 0.4163174 ],\n",
       "       [ 0.37282269],\n",
       "       [ 0.29322743]])"
      ]
     },
     "execution_count": 4,
     "metadata": {},
     "output_type": "execute_result"
    }
   ],
   "source": [
    "import numpy as np\n",
    "import scipy.special\n",
    "\n",
    "#number of input, hidden and output nodes\n",
    "input_nodes = 3\n",
    "hidden_nodes = 3\n",
    "output_nodes = 3\n",
    "\n",
    "#learning reate is 0.3\n",
    "learning_rate = 0.3\n",
    "\n",
    "#create instance of neural network\n",
    "n = neuralNetwork(input_nodes, hidden_nodes, output_nodes, learning_rate)\n",
    "\n",
    "\n",
    "inputs_list = [1, 2, 3]\n",
    "\n",
    "final_outputs = n.query(inputs_list)\n",
    "\n",
    "final_outputs"
   ]
  }
 ],
 "metadata": {
  "kernelspec": {
   "display_name": "Python 3",
   "language": "python",
   "name": "python3"
  },
  "language_info": {
   "codemirror_mode": {
    "name": "ipython",
    "version": 3
   },
   "file_extension": ".py",
   "mimetype": "text/x-python",
   "name": "python",
   "nbconvert_exporter": "python",
   "pygments_lexer": "ipython3",
   "version": "3.6.3"
  }
 },
 "nbformat": 4,
 "nbformat_minor": 2
}
